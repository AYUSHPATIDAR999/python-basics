{
  "nbformat": 4,
  "nbformat_minor": 0,
  "metadata": {
    "colab": {
      "provenance": []
    },
    "kernelspec": {
      "name": "python3",
      "display_name": "Python 3"
    },
    "language_info": {
      "name": "python"
    }
  },
  "cells": [
    {
      "cell_type": "markdown",
      "source": [
        "Q1. What is the difference between a function and a method in Python?\n",
        ">>>A function is a block of reusable code that is used to perform a specific task and can be called by its name.\n",
        "A method is a function that is associated with an object and is called using the object (i.e., it is a function that belongs to an object or class).\n",
        "Example:def greet(name):\n",
        "    return f\"Hello, {name}\"\n",
        "print(greet(\"Alice\"))\n",
        "\n",
        "Q2. Explain the concept of function arguments and parameters in Python?\n",
        ">>>Parameters are the variables listed in the function definition.\n",
        "Arguments are the values you pass to the function when calling it.\n",
        "Example:def add(a, b):\n",
        "    return a + b\n",
        "result = add(3, 5)\n",
        "print(result)\n",
        "\n",
        "Q3. What are the different ways to define and call a function in Python?\n",
        ">>>You can define a function using the def keyword.\n",
        "A function is called by using its name and passing appropriate arguments.\n",
        "example: def greet(name):\n",
        "    return f\"Hello, {name}\"\n",
        "print(greet(\"Alice\"))\n",
        "\n",
        "Q4. What is the purpose of the return statement in a Python function?\n",
        ">>>The return statement is used to send back a result from the function to the caller. It can also terminate the function early.\n",
        "example: def multiply(a, b):\n",
        "    return a * b\n",
        "result = multiply(4, 5)\n",
        "print(result)\n",
        "\n",
        "Q5. What are iterators in Python and how do they differ from iterables?\n",
        ">>>An iterable is an object that can return an iterator e.g., lists, strings, tuples.\n",
        "An iterator is an object that keeps track of the current position during iteration and can return the next value using next().\n",
        "\n",
        "Q6.  Explain the concept of generators in Python and how they are defined?\n",
        ">>>A generator is a type of iterator that is defined using a function with the yield keyword. Instead of returning a value all at once, a generator yields values one at a time, allowing for lazy evaluation.\n",
        "Example: def count_up_to(max):\n",
        "    count = 1\n",
        "    while count <= max:\n",
        "        yield count\n",
        "        count += 1\n",
        "counter = count_up_to(3)\n",
        "for num in counter:\n",
        "    print(num)\n",
        "\n",
        "Q7. What are the advantages of using generators over regular functions?\n",
        ">>>Memory Efficiency: Generators only generate one item at a time, so they are more memory-efficient than functions that return large data structures like lists.\n",
        "Lazy Evaluation: Generators calculate values on the fly as they are needed, which can improve performance, especially for large datasets.\n",
        "ex: def generate_numbers():\n",
        "    for i in range(1, 1000000):\n",
        "        yield i\n",
        "\n",
        "Q8. What is a lambda function in Python and when is it typically used?\n",
        ">>>A lambda function is an anonymous function defined with the lambda keyword. It can have any number of arguments but only one expression, which is evaluated and returned. ex:square = lambda x: x ** 2\n",
        "print(square(5))\n",
        "\n",
        "Q9. Explain the purpose and usage of the map() function in Python?\n",
        ">>>The map() function applies a given function to each item in an iterable like a list or tuple and returns a map object an iterator of the results.\n",
        "ex:numbers = [1, 2, 3, 4]\n",
        "squared_numbers = map(lambda x: x ** 2, numbers)\n",
        "print(list(squared_numbers))\n",
        "\n",
        "Q10. What is the difference between map(), reduce(), and filter() functions in Python?\n",
        ">>>map(): Applies a function to every item in an iterable and returns an iterator of the results.\n",
        "reduce(): Applies a function cumulatively to the items in an iterable, reducing them to a single value.\n",
        "filter(): Filters elements in an iterable based on a function that returns True or False."
      ],
      "metadata": {
        "id": "qWWy8BfBpTz5"
      }
    },
    {
      "cell_type": "code",
      "source": [
        "#PRACTICAL QUESTIONS\n",
        "#Q1 Write a Python function that takes a list of numbers as input and returns the sum of all even numbers in the list?\n",
        "def sum_even_numbers(numbers):\n",
        "    sum = 0\n",
        "    for num in numbers:\n",
        "        if num % 2 == 0:\n",
        "            sum += num\n",
        "    return sum\n",
        "\n",
        "numbers = [1, 2, 3, 4, 5, 6, 7, 8, 9, 10]\n",
        "result = sum_even_numbers(numbers)\n",
        "print(result)\n"
      ],
      "metadata": {
        "colab": {
          "base_uri": "https://localhost:8080/"
        },
        "id": "Pu8LAQDvpS99",
        "outputId": "4941048c-0ad8-4ddb-963f-0f65ddcc7244"
      },
      "execution_count": null,
      "outputs": [
        {
          "output_type": "stream",
          "name": "stdout",
          "text": [
            "30\n"
          ]
        }
      ]
    },
    {
      "cell_type": "code",
      "source": [
        "#Q2. Create a Python function that accepts a string and returns the reverse of that string?\n",
        "def reverse_string(string):\n",
        "    reversed_string = \"\"\n",
        "    for char in string:\n",
        "        reversed_string = char + reversed_string\n",
        "    return reversed_string\n",
        "\n",
        "string = \"Hello, World!\"\n",
        "result = reverse_string(string)\n",
        "print(result)"
      ],
      "metadata": {
        "colab": {
          "base_uri": "https://localhost:8080/"
        },
        "id": "3YrkYpRkwsQj",
        "outputId": "e971ac31-99aa-42ad-a3e0-150d6e1c4921"
      },
      "execution_count": null,
      "outputs": [
        {
          "output_type": "stream",
          "name": "stdout",
          "text": [
            "!dlroW ,olleH\n"
          ]
        }
      ]
    },
    {
      "cell_type": "code",
      "source": [
        "#Q3. Implement a Python function that takes a list of integers and returns a new list containing the squares of each number?\n",
        "def square_numbers(numbers):\n",
        "    squared_numbers = []\n",
        "    for num in numbers:\n",
        "        squared_numbers.append(num ** 2)\n",
        "    return squared_numbers"
      ],
      "metadata": {
        "id": "IiVvYde_wsN1"
      },
      "execution_count": null,
      "outputs": []
    },
    {
      "cell_type": "code",
      "source": [
        "#Q4. Write a Python function that checks if a given number is prime or not from 1 to 200?\n",
        "def is_prime(n):\n",
        "    if n <= 1:\n",
        "        return False\n",
        "    for i in range(2, int(n**0.5) + 1):\n",
        "        if n % i == 0:\n",
        "            return False\n",
        "    return True\n",
        "\n",
        "prime_numbers = [num for num in range(1, 201) if is_prime(num)]\n",
        "print(prime_numbers)"
      ],
      "metadata": {
        "id": "8cOrOWU2c3is",
        "colab": {
          "base_uri": "https://localhost:8080/"
        },
        "outputId": "973f9a19-0a30-46ad-d06d-833700326f75"
      },
      "execution_count": 1,
      "outputs": [
        {
          "output_type": "stream",
          "name": "stdout",
          "text": [
            "[2, 3, 5, 7, 11, 13, 17, 19, 23, 29, 31, 37, 41, 43, 47, 53, 59, 61, 67, 71, 73, 79, 83, 89, 97, 101, 103, 107, 109, 113, 127, 131, 137, 139, 149, 151, 157, 163, 167, 173, 179, 181, 191, 193, 197, 199]\n"
          ]
        }
      ]
    },
    {
      "cell_type": "code",
      "source": [
        "#Q5. Create an iterator class in Python that generates the Fibonacci sequence up to a specified number of terms?"
      ],
      "metadata": {
        "id": "89iRo7z3dpyx"
      },
      "execution_count": null,
      "outputs": []
    },
    {
      "cell_type": "code",
      "source": [
        "#Q6. Write a generator function in Python that yields the powers of 2 up to a given exponent?\n",
        "def power_of_two(exponent):\n",
        "    for i in range(exponent + 1):\n",
        "        yield 2 ** i\n",
        "\n",
        "result = power_of_two(5)\n",
        "for power in result:\n",
        "    print(power)"
      ],
      "metadata": {
        "colab": {
          "base_uri": "https://localhost:8080/"
        },
        "id": "gdYdgIDv2tX_",
        "outputId": "3ea23609-be41-4edf-fd5c-51803050a1fa"
      },
      "execution_count": 2,
      "outputs": [
        {
          "output_type": "stream",
          "name": "stdout",
          "text": [
            "1\n",
            "2\n",
            "4\n",
            "8\n",
            "16\n",
            "32\n"
          ]
        }
      ]
    },
    {
      "cell_type": "code",
      "source": [
        "#Q7. Implement a generator function that reads a file line by line and yields each line as a string?\n",
        "# def read_file_lines(file_path):\n",
        "#     with open(file_path, 'r') as file:\n",
        "#         for line in file:\n",
        "#             yield line\n",
        "\n",
        "# for line in read_file_lines('example.txt'):\n",
        "#     print(line)\n",
        "\n",
        "#nott getting output please attach answer fofr this question"
      ],
      "metadata": {
        "id": "kIRD2JTX2tUM"
      },
      "execution_count": 22,
      "outputs": []
    },
    {
      "cell_type": "code",
      "source": [
        "#Q8. Use a lambda function in Python to sort a list of tuples based on the second element of each tuple?\n",
        "tuples = [(1, 2), (4, 1), (3, 4), (2, 3)]\n",
        "\n",
        "sorted_tuples = sorted(tuples, key=lambda x: x[1])\n",
        "\n",
        "print(sorted_tuples)"
      ],
      "metadata": {
        "colab": {
          "base_uri": "https://localhost:8080/"
        },
        "id": "c0vhfmfQ2tM6",
        "outputId": "100f3a12-b68c-4734-8c40-db247c6ceb41"
      },
      "execution_count": 20,
      "outputs": [
        {
          "output_type": "stream",
          "name": "stdout",
          "text": [
            "[(4, 1), (1, 2), (2, 3), (3, 4)]\n"
          ]
        }
      ]
    },
    {
      "cell_type": "code",
      "source": [
        "#Q9. Write a Python program that uses map() to convert a list of temperatures from Celsius to Fahrenheit?\n",
        "celsius = [0, 10, 20, 30, 40]\n",
        "\n",
        "fahrenheit = list(map(lambda c: (c * 9/5) + 32, celsius))\n",
        "\n",
        "print(fahrenheit)\n"
      ],
      "metadata": {
        "colab": {
          "base_uri": "https://localhost:8080/"
        },
        "id": "9MojI1Al4h3v",
        "outputId": "3505c7ec-fd54-421e-83b1-7fbd7a44f6b6"
      },
      "execution_count": 12,
      "outputs": [
        {
          "output_type": "stream",
          "name": "stdout",
          "text": [
            "[32.0, 50.0, 68.0, 86.0, 104.0]\n"
          ]
        }
      ]
    },
    {
      "cell_type": "code",
      "source": [
        "#Q10. Create a Python program that uses filter() to remove all the vowels from a given string?\n",
        "def is_not_vowel(char):\n",
        "    return char.lower() not in 'aeiou'\n",
        "\n",
        "input_string = \"Hello, World!\"\n",
        "filtered_string = ''.join(filter(is_not_vowel, input_string))\n",
        "\n",
        "print(filtered_string)"
      ],
      "metadata": {
        "colab": {
          "base_uri": "https://localhost:8080/"
        },
        "id": "WuDpaGl34wNs",
        "outputId": "f80edf15-2d5f-4c4c-be53-a9696dd089f6"
      },
      "execution_count": 13,
      "outputs": [
        {
          "output_type": "stream",
          "name": "stdout",
          "text": [
            "Hll, Wrld!\n"
          ]
        }
      ]
    },
    {
      "cell_type": "code",
      "source": [
        "#Q11.\n",
        "#>>>>>please provide the solution for theese question i coun't understand the question\n",
        "\n",
        "\n",
        "\n",
        "# data = [[34587, \"learning python, Mark Lutz\"], [98762, \"Programming Python, Mark Lutz\", 5, 56.80], [77226, \"Head First Python, Paul Barry\", 3, 32.95],  [88112, \"Einführung in Python3, Bernd Klein\", 3, 24.99]]\n",
        "\n",
        "# def calculate_total(item):\n",
        "#   if len(item) >= 4:\n",
        "#     order_number, _, quantity, price = item\n",
        "#     total = quantity * price\n",
        "#     if total < 100:\n",
        "#         total += 10\n",
        "#     return (order_number, total)\n",
        "#   else:\n",
        "#     return (order_number, total)\n",
        "\n",
        "# result = list(map(calculate_total, data))\n",
        "\n",
        "# print(result)\n",
        "\n",
        "\n"
      ],
      "metadata": {
        "id": "yhttAmeV6HdB"
      },
      "execution_count": 21,
      "outputs": []
    }
  ]
}