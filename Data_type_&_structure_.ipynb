{
  "nbformat": 4,
  "nbformat_minor": 0,
  "metadata": {
    "colab": {
      "provenance": []
    },
    "kernelspec": {
      "name": "python3",
      "display_name": "Python 3"
    },
    "language_info": {
      "name": "python"
    }
  },
  "cells": [
    {
      "cell_type": "markdown",
      "source": [],
      "metadata": {
        "id": "0EKCL75_Ajx5"
      }
    },
    {
      "cell_type": "markdown",
      "source": [
        "Q1. What are data structures, and why are they important?\n",
        ">>>\n",
        "\n",
        "Q2. Explain the difference between mutable and immutable data types with examples?\n",
        ">>> Mutable types- A mutable data type is one whose value can be changed or modified after the object is created eg. list,Dictionaries,sets\n",
        "Immutable types- An immutable data type is one whose value cannot be changed or modified after it is created eg. tuple, strings\n",
        "\n",
        "Q3. What are the main differences between lists and tuples in Python?\n",
        ">>> In Python lists and tuples are both used to store multiple items, but they have key differences. Lists are mutable meaning you can change, add, or remove items after they are created, and they use square brackets (`[]`). Tuples on the other hand, are immutable, meaning once they're created, their contents cannot be changed, and they use parentheses (`()`).\n",
        "\n",
        "Q4. Describe how dictionaries store data?\n",
        ">>> dictionaries store data as key-value pairs. Each key is unique and maps to a specific value, allowing you to quickly access data using the key. Dictionaries are created with curly braces {}, where keys and values are separated by a colon. Keys must be immutable (like strings or numbers), and values can be any type of data.\n",
        "\n",
        "Q5. Why might you use a set instead of a list in Python?\n",
        ">>> You might use a set instead of a list when you want to store only unique items no duplicates and don't need to worry about the order of the items. Sets automatically remove duplicates and are faster when checking if an item is already in the collection. However, unlike lists, sets don't keep the order of elements, so you can't access items by their position in the set\n",
        "\n",
        "Q6. What is a string in Python, and how is it different from a list?\n",
        ">>> a string is a sequence of characters used to represent text, enclosed in single (' ') or double (\" \") quotes. Strings are immutable, meaning once created, you cannot change their content. On the other hand, a list is a collection that can store multiple items, such as numbers, strings, or other lists, and it is mutable, so you can modify, add, or remove elements. While both strings and lists allow accessing elements by index, strings are used specifically for handling text\n",
        "\n",
        "Q7. How do tuples ensure data integrity in Python?\n",
        ">>> tuples help ensure data integrity because they are immutable. Once a tuple is created, its elements cannot be changed, added, or removed. This immutability guarantees that the data inside a tuple remains constant throughout the program. This is especially useful in situations where you want to prevent accidental modifications to critical data, such as configuration settings, coordinates, or other constant values. Since the data cannot be altered, tuples provide a level of protection against unintended changes, helping maintain the integrity and consistency of your data.\n",
        "\n",
        "Q8. What is a hash table, and how does it relate to dictionaries in Python?\n",
        ">>>\n",
        "\n",
        "Q9. Can lists contain different data types in Python3\n",
        ">>> yes, lists in Python can contain different data types. A single list can hold a mix of integers, strings, booleans, floats, and even other lists or objects\n",
        "\n",
        "Q10. Explain why strings are immutable in Python?\n",
        ">>> Strings are immutable in Python because their value cannot be changed once created. This makes them more efficient, safer to use avoiding changes, and ensures they work reliably as keys in dictionaries. Immutability also helps with performance and thread safety, as strings can't be altered while in use\n",
        "\n",
        "Q11. What advantages do dictionaries offer over lists for certain tasks?\n",
        ">>> Dictionaries are faster than lists for tasks that require quick lookups because they allow you to access values directly using unique keys, with O(1) time complexity. Unlike lists, which store items in order, dictionaries store data as key-value pairs, making it easier to associate and retrieve information. They also ensure unique keys, preventing duplicates, which helps maintain data integrity. Overall, dictionaries are better for managing and organizing data efficiently\n",
        "\n",
        "Q12> Describe a scenario where using a tuple would be preferable over a list?\n",
        ">>>A tuple is preferable over a list when you need to store a collection of values that should remain unchanged (immutable). For example, in a scenario where you're representing fixed data like coordinates (e.g., (10, 20)) or RGB color values (e.g., (255, 0, 0)), using a tuple ensures that the data cannot be accidentally modified. Tuples are also more memory-efficient and faster for iteration, making them ideal for storing data that does not need to change after being set\n",
        "\n",
        "Q13. How do sets handle duplicate values in Python?\n",
        ">>>Sets automatically remove duplicates. A set is an unordered collection of unique elements, meaning it does not allow duplicate values. When you try to add a duplicate element to a set, it simply ignores the duplicate and keeps only one instance of the value\n",
        "\n",
        "Q14. How does the “in” keyword work differently for lists and dictionaries?\n",
        ">>>The in keyword works differently for lists and dictionaries in Python. For lists, it checks if a value exists in the list and returns True if found. For dictionaries, it checks if a key exists in the dictionary, not the value. To check for a value in a dictionary, you can use the .values() method\n",
        "\n",
        "Q15. Can you modify the elements of a tuple? Explain why or why not?\n",
        ">>> No, you cannot modify the elements of a tuple in Python because tuples are immutable,  Once a tuple is created, its elements cannot be changed, added, or removed. This immutability ensures that the data stored in a tuple remains constant throughout the program, which can help prevent accidental modifications and improve performance in certain cases. However, you can modify the contents of a mutable object inside a tuple like a list, but you can't change the structure of the tuple itself.\n",
        "\n",
        "Q16. What is a nested dictionary, and give an example of its use case?\n",
        ">>> A nested dictionary is a dictionary where the values are other dictionaries, creating a hierarchy of data. This allows you to store complex information in a structured way. For example, you could use a nested dictionary to store details about multiple employees, where each employees ID is a key, and the value is another dictionary containing their name, age, and department. This structure makes it easy to organize and access detailed information.\n",
        "\n",
        "Q17. Describe the time complexity of accessing elements in a dictionary?\n",
        ">>>\n",
        "\n",
        "Q18. In what situations are lists preferred over dictionaries?\n",
        ">>>ists are preferred over dictionaries when the order of elements matters, as lists preserve the sequence in which items are added. They are also ideal when you need to access elements by their index, allowing direct access to any position in the list. Lists allow duplicates, so if you need to store multiple identical items, they are a better choice. Additionally, lists are simpler when you don't need key-value pairs and just need a collection of values. They are also suitable for smaller datasets where performance is not a primary concern, as they are straightforward and easy to use\n",
        "\n",
        "Q19. Why are dictionaries considered unordered, and how does that affect data retrieval?\n",
        ">>>\n",
        "\n",
        "Q20.Explain the difference between a list and a dictionary in terms of data retrieval?\n",
        ">>>The main difference between a list and a dictionary in terms of data retrieval is how the data is accessed. In a list, elements are accessed using an index, which is a numerical position that corresponds to the order in which elements are added. The order of elements matters, and data retrieval is based on this position (e.g., my_list[2] to access the third item). In contrast, a dictionary stores data as key-value pairs, and elements are accessed by their key (e.g., my_dict['key']). Dictionaries are unordered, meaning there’s no fixed order of elements, and retrieval is based on the unique key associated with the value. Both structures offer O(1) time complexity for data retrieval, but lists rely on indices, while dictionaries use keys.\n",
        "\n",
        "PRACTICAL QUESTIONS\n",
        "\n"
      ],
      "metadata": {
        "id": "gdHbfS8DAl9Z"
      }
    },
    {
      "cell_type": "code",
      "source": [
        "# 1. Write a code to create a string with your name and print it ?\n",
        "name = \"ayush patidar\"\n",
        "print(name)"
      ],
      "metadata": {
        "colab": {
          "base_uri": "https://localhost:8080/"
        },
        "id": "qrYFoPDUxeW2",
        "outputId": "2f3bf0a7-7bff-4356-e6fe-023955d1e16b"
      },
      "execution_count": null,
      "outputs": [
        {
          "output_type": "stream",
          "name": "stdout",
          "text": [
            "ayush patidar\n"
          ]
        }
      ]
    },
    {
      "cell_type": "code",
      "source": [
        "# Q2. Write a code to find the length of the string \"Hello World\"?\n",
        "name = \"ayush\"\n",
        "len(name)"
      ],
      "metadata": {
        "colab": {
          "base_uri": "https://localhost:8080/"
        },
        "id": "t7HpxVxmx5fR",
        "outputId": "2467cc34-a918-4055-d52d-80668b6b88d6"
      },
      "execution_count": null,
      "outputs": [
        {
          "output_type": "execute_result",
          "data": {
            "text/plain": [
              "5"
            ]
          },
          "metadata": {},
          "execution_count": 1
        }
      ]
    },
    {
      "cell_type": "code",
      "source": [
        "#Q3.Write a code to slice the first 3 characters from the string \"Python Programming\"?\n",
        "my_string = \"Python Programming\"\n",
        "sliced_string = my_string[:3]\n",
        "print(sliced_string)"
      ],
      "metadata": {
        "colab": {
          "base_uri": "https://localhost:8080/"
        },
        "id": "TXdw1olT224B",
        "outputId": "50d9d23f-7328-4a72-9aa8-f62d8e92dd4a"
      },
      "execution_count": null,
      "outputs": [
        {
          "output_type": "stream",
          "name": "stdout",
          "text": [
            "Pyt\n"
          ]
        }
      ]
    },
    {
      "cell_type": "code",
      "source": [
        "#Q4.Write a code to convert the string \"hello\" to uppercase?\n",
        "my_string = \"ayush\"\n",
        "uppercase_string = my_string.upper()\n",
        "print(uppercase_string)"
      ],
      "metadata": {
        "colab": {
          "base_uri": "https://localhost:8080/"
        },
        "id": "IT7j-h773gpb",
        "outputId": "103e564a-2ea3-489a-8e96-b2faf6bd1631"
      },
      "execution_count": null,
      "outputs": [
        {
          "output_type": "stream",
          "name": "stdout",
          "text": [
            "AYUSH\n"
          ]
        }
      ]
    },
    {
      "cell_type": "code",
      "source": [
        "#Q5. Write a code to replace the word \"apple\" with \"orange\" in the string \"I like apple\"?\n",
        "sentence = \"I like apple\"\n",
        "modified_sentence = sentence.replace(\"apple\", \"orange\")\n",
        "print(modified_sentence)"
      ],
      "metadata": {
        "id": "NLt7jJMI4nNp",
        "colab": {
          "base_uri": "https://localhost:8080/"
        },
        "outputId": "7cdd2c37-1b36-41ff-902d-1f109edc1790"
      },
      "execution_count": null,
      "outputs": [
        {
          "output_type": "stream",
          "name": "stdout",
          "text": [
            "I like orange\n"
          ]
        }
      ]
    },
    {
      "cell_type": "code",
      "source": [
        "#Q6. Write a code to create a list with numbers 1 to 5 and print it?\n",
        "numbers = [1,2,3,4,5]\n",
        "print(numbers)"
      ],
      "metadata": {
        "id": "xgt05J3_DaHb",
        "colab": {
          "base_uri": "https://localhost:8080/"
        },
        "outputId": "6b61d557-3a90-4c0b-8514-2d7dcb435aee"
      },
      "execution_count": null,
      "outputs": [
        {
          "output_type": "stream",
          "name": "stdout",
          "text": [
            "[1, 2, 3, 4, 5]\n"
          ]
        }
      ]
    },
    {
      "cell_type": "code",
      "source": [
        "#Q7.Write a code to append the number 10 to the list [1, 2, 3, 4]?\n",
        "numbers = [1, 2, 3, 4]\n",
        "numbers.append(10)\n",
        "print(numbers)"
      ],
      "metadata": {
        "colab": {
          "base_uri": "https://localhost:8080/"
        },
        "id": "NYfDX468B-A0",
        "outputId": "db464e95-a9d8-44ed-ed0d-e9a8f89b0222"
      },
      "execution_count": null,
      "outputs": [
        {
          "output_type": "stream",
          "name": "stdout",
          "text": [
            "[1, 2, 3, 4, 10]\n"
          ]
        }
      ]
    },
    {
      "cell_type": "code",
      "source": [
        "#Q8. Write a code to remove the number 3 from the list [1, 2, 3, 4, 5]?\n",
        "num = [1,2,3,4,5]\n",
        "num.remove(3)\n",
        "print(num)"
      ],
      "metadata": {
        "colab": {
          "base_uri": "https://localhost:8080/"
        },
        "id": "MYeb9xcgC1-K",
        "outputId": "7b82019f-c6db-4966-ca2f-16f86841e2c3"
      },
      "execution_count": null,
      "outputs": [
        {
          "output_type": "stream",
          "name": "stdout",
          "text": [
            "[1, 2, 4, 5]\n"
          ]
        }
      ]
    },
    {
      "cell_type": "code",
      "source": [
        "#Q9. Write a code to access the second element in the list ['a', 'b', 'c', 'd']?\n",
        "letters = ['a', 'b', 'c', 'd']\n",
        "second_element = letters[1]\n",
        "print(second_element)"
      ],
      "metadata": {
        "colab": {
          "base_uri": "https://localhost:8080/"
        },
        "id": "Hui_aPWSDK_r",
        "outputId": "09aa8eaa-1724-469f-a572-ff6d822ba392"
      },
      "execution_count": null,
      "outputs": [
        {
          "output_type": "stream",
          "name": "stdout",
          "text": [
            "b\n"
          ]
        }
      ]
    },
    {
      "cell_type": "code",
      "source": [
        "#Q10. Write a code to reverse the list [10, 20, 30, 40, 50]?\n",
        "numbers = [10, 20, 30, 40, 50]\n",
        "numbers.reverse()\n",
        "print(numbers)"
      ],
      "metadata": {
        "colab": {
          "base_uri": "https://localhost:8080/"
        },
        "id": "6nv1D5oAJokL",
        "outputId": "c56c7af6-a860-4f4d-f754-d917bdfd79d0"
      },
      "execution_count": 4,
      "outputs": [
        {
          "output_type": "stream",
          "name": "stdout",
          "text": [
            "[50, 40, 30, 20, 10]\n"
          ]
        }
      ]
    },
    {
      "cell_type": "code",
      "source": [
        "#Q11. Write a code to create a tuple with the elements 100, 200, 300 and print it?\n",
        "my_tuple = (100, 200, 300)\n",
        "print(my_tuple)\n"
      ],
      "metadata": {
        "colab": {
          "base_uri": "https://localhost:8080/"
        },
        "id": "RORmggQAKAXd",
        "outputId": "de86cd93-2170-42d5-ddee-3d6b491264a9"
      },
      "execution_count": 5,
      "outputs": [
        {
          "output_type": "stream",
          "name": "stdout",
          "text": [
            "(100, 200, 300)\n"
          ]
        }
      ]
    },
    {
      "cell_type": "code",
      "source": [
        "#Q12.Write a code to access the second-to-last element of the tuple ('red', 'green', 'blue', 'yellow')?\n",
        "my_tuple = ('red', 'green', 'blue', 'yellow')\n",
        "print(my_tuple[-2])\n"
      ],
      "metadata": {
        "id": "ON1yKJUKKyzy",
        "colab": {
          "base_uri": "https://localhost:8080/"
        },
        "outputId": "4beb1c97-d3bf-41d4-a6e2-2737d7057a66"
      },
      "execution_count": 8,
      "outputs": [
        {
          "output_type": "stream",
          "name": "stdout",
          "text": [
            "blue\n"
          ]
        }
      ]
    },
    {
      "cell_type": "code",
      "source": [
        "#Q13. Write a code to find the minimum number in the tuple (10, 20, 5, 15)?\n",
        "my_tuple = (10, 20, 5, 15)\n",
        "min_number = min(my_tuple)\n",
        "print(min_number)"
      ],
      "metadata": {
        "id": "MnPhy9pFKvSC",
        "colab": {
          "base_uri": "https://localhost:8080/"
        },
        "outputId": "58b370c3-7b3a-4a78-b7d6-56ebf5022732"
      },
      "execution_count": 11,
      "outputs": [
        {
          "output_type": "stream",
          "name": "stdout",
          "text": [
            "5\n"
          ]
        }
      ]
    },
    {
      "cell_type": "code",
      "source": [
        "#Q14.Write a code to find the index of the element \"cat\" in the tuple ('dog', 'cat', 'rabbit')?\n",
        "my_tuple = ('dog', 'cat', 'rabbit')\n",
        "index = my_tuple.index('cat')\n",
        "print(index)"
      ],
      "metadata": {
        "colab": {
          "base_uri": "https://localhost:8080/"
        },
        "id": "4dWDtUjcPPd0",
        "outputId": "7d5bf224-8bec-49a6-ce2c-3889a7d9a2f2"
      },
      "execution_count": 12,
      "outputs": [
        {
          "output_type": "stream",
          "name": "stdout",
          "text": [
            "1\n"
          ]
        }
      ]
    },
    {
      "cell_type": "code",
      "source": [
        "#Q15.Write a code to create a tuple containing three different fruits and check if \"kiwi\" is in it?fruits = (\"apple\", \"banana\", \"orange\")\n",
        "fruits = (\"apple\", \"kiwi\", \"orange\")\n",
        "if \"kiwi\" in fruits:\n",
        "    print(\"Kiwi is in the tuple!\")\n",
        "else:\n",
        "    print(\"Kiwi is not in the tuple.\")"
      ],
      "metadata": {
        "colab": {
          "base_uri": "https://localhost:8080/"
        },
        "id": "YSca2slUPTGf",
        "outputId": "6d894aa3-ec30-4718-c94d-7facb909b04a"
      },
      "execution_count": 15,
      "outputs": [
        {
          "output_type": "stream",
          "name": "stdout",
          "text": [
            "Kiwi is in the tuple!\n"
          ]
        }
      ]
    },
    {
      "cell_type": "code",
      "source": [
        "#Q16. Write a code to create a set with the elements 'a', 'b', 'c' and print it?\n",
        "letters = {'a', 'b', 'c'}\n",
        "print(letters)"
      ],
      "metadata": {
        "colab": {
          "base_uri": "https://localhost:8080/"
        },
        "id": "fE59-g6jPTDN",
        "outputId": "f9ed5fde-3709-4f6b-d6c8-93dcb982e16a"
      },
      "execution_count": 17,
      "outputs": [
        {
          "output_type": "stream",
          "name": "stdout",
          "text": [
            "{'c', 'b', 'a'}\n"
          ]
        }
      ]
    },
    {
      "cell_type": "code",
      "source": [
        "#Q17Write a code to clear all elements from the set {1, 2, 3, 4, 5}?\n",
        "numbers = {1, 2, 3, 4, 5}\n",
        "numbers.clear()\n",
        "print(numbers)"
      ],
      "metadata": {
        "colab": {
          "base_uri": "https://localhost:8080/"
        },
        "id": "7HC6jDbHPS5v",
        "outputId": "d87cbcc4-b09e-45b6-a3ea-5f32fb8643dd"
      },
      "execution_count": 18,
      "outputs": [
        {
          "output_type": "stream",
          "name": "stdout",
          "text": [
            "set()\n"
          ]
        }
      ]
    },
    {
      "cell_type": "code",
      "source": [
        "#Q18. Write a code to remove the element 4 from the set {1, 2, 3, 4}?\n",
        "num = {1, 2, 3, 4}\n",
        "num.remove(4)\n",
        "print(num)"
      ],
      "metadata": {
        "colab": {
          "base_uri": "https://localhost:8080/"
        },
        "id": "ErgKHJVvPSps",
        "outputId": "f4a30fff-941e-4eec-82d3-09aedc35e14e"
      },
      "execution_count": 19,
      "outputs": [
        {
          "output_type": "stream",
          "name": "stdout",
          "text": [
            "{1, 2, 3}\n"
          ]
        }
      ]
    },
    {
      "cell_type": "code",
      "source": [
        "#Q19.Write a code to find the union of two sets {1, 2, 3} and {3, 4, 5}?\n",
        "set1 = {1, 2, 3}\n",
        "set2 = {3, 4, 5}\n",
        "union_set = set1.union(set2)\n",
        "print(union_set)"
      ],
      "metadata": {
        "colab": {
          "base_uri": "https://localhost:8080/"
        },
        "id": "0i7zrZRnR2Wd",
        "outputId": "93487f62-562b-42ab-c591-8820c99b9d73"
      },
      "execution_count": 20,
      "outputs": [
        {
          "output_type": "stream",
          "name": "stdout",
          "text": [
            "{1, 2, 3, 4, 5}\n"
          ]
        }
      ]
    },
    {
      "cell_type": "code",
      "source": [
        "#Q20.Write a code to find the intersection of two sets {1, 2, 3} and {2, 3, 4?\n",
        "set1 = {1, 2, 3}\n",
        "set2 = {2, 3, 4}\n",
        "intersection_set = set1.intersection(set2)\n",
        "print(intersection_set)"
      ],
      "metadata": {
        "colab": {
          "base_uri": "https://localhost:8080/"
        },
        "id": "UQaD3JW0R2OW",
        "outputId": "327fa61d-b337-4d3f-828e-8b233f638327"
      },
      "execution_count": 21,
      "outputs": [
        {
          "output_type": "stream",
          "name": "stdout",
          "text": [
            "{2, 3}\n"
          ]
        }
      ]
    },
    {
      "cell_type": "code",
      "source": [
        "#Q21.Write a code to create a dictionary with the keys \"name\", \"age\", and \"city\", and print it?\n",
        "dic= {\"name\": \"John\", \"age\": 30, \"city\": \"New York\"}\n",
        "print(dic)\n"
      ],
      "metadata": {
        "colab": {
          "base_uri": "https://localhost:8080/"
        },
        "id": "BMLr68pdR2CK",
        "outputId": "a12558c8-9299-4de5-bd47-5d9fcaa40fe1"
      },
      "execution_count": 23,
      "outputs": [
        {
          "output_type": "stream",
          "name": "stdout",
          "text": [
            "{'name': 'John', 'age': 30, 'city': 'New York'}\n"
          ]
        }
      ]
    },
    {
      "cell_type": "code",
      "source": [
        "#Q22. Write a code to add a new key-value pair \"country\": \"USA\" to the dictionary {'name': 'John', 'age': 25}?\n",
        "person = {'name': 'John', 'age': 25}\n",
        "person['country'] = 'USA'\n",
        "print(person)"
      ],
      "metadata": {
        "colab": {
          "base_uri": "https://localhost:8080/"
        },
        "id": "d_jS1K0Wcu9B",
        "outputId": "76dc6081-5661-4761-ac53-4cc24eb4c01a"
      },
      "execution_count": 24,
      "outputs": [
        {
          "output_type": "stream",
          "name": "stdout",
          "text": [
            "{'name': 'John', 'age': 25, 'country': 'USA'}\n"
          ]
        }
      ]
    },
    {
      "cell_type": "code",
      "source": [
        "#Q23.  Write a code to access the value associated with the key \"name\" in the dictionary {'name': 'Alice', 'age': 30}?\n",
        "person = {'name': 'Alice', 'age': 30}\n",
        "name_value = person['name']\n",
        "print(name_value)"
      ],
      "metadata": {
        "colab": {
          "base_uri": "https://localhost:8080/"
        },
        "id": "ML8Sp5vOcu49",
        "outputId": "839b907f-f85c-4cce-c8d1-973e40511640"
      },
      "execution_count": 25,
      "outputs": [
        {
          "output_type": "stream",
          "name": "stdout",
          "text": [
            "Alice\n"
          ]
        }
      ]
    },
    {
      "cell_type": "code",
      "source": [
        "#Q24. Write a code to remove the key \"age\" from the dictionary {'name': 'Bob', 'age': 22, 'city': 'New York'}?\n",
        "person = {'name': 'Bob', 'age': 22, 'city': 'New York'}\n",
        "del person['age']\n",
        "print(person)"
      ],
      "metadata": {
        "colab": {
          "base_uri": "https://localhost:8080/"
        },
        "id": "2Kn6Yfrscu2R",
        "outputId": "37efcad6-ea61-4c70-ec76-ba2d39f90698"
      },
      "execution_count": 26,
      "outputs": [
        {
          "output_type": "stream",
          "name": "stdout",
          "text": [
            "{'name': 'Bob', 'city': 'New York'}\n"
          ]
        }
      ]
    },
    {
      "cell_type": "code",
      "source": [
        "#Q25.Write a code to check if the key \"city\" exists in the dictionary {'name': 'Alice', 'city': 'Paris'}.?\n",
        "person = {'name': 'Alice', 'city': 'Paris'}\n",
        "if \"city\" in person:\n",
        "    print(\"The key 'city' exists in the dictionary.\")\n",
        "else:\n",
        "    print(\"The key 'city' does not exist in the dictionary.\")"
      ],
      "metadata": {
        "colab": {
          "base_uri": "https://localhost:8080/"
        },
        "id": "cPXzjYDFcumM",
        "outputId": "a71994f5-fdcb-4d1a-f412-c3bc00892bf2"
      },
      "execution_count": 27,
      "outputs": [
        {
          "output_type": "stream",
          "name": "stdout",
          "text": [
            "The key 'city' exists in the dictionary.\n"
          ]
        }
      ]
    },
    {
      "cell_type": "code",
      "source": [
        "#Q26.Write a code to create a list, a tuple, and a dictionary, and print them all?\n",
        "my_list = [1, 2, 3, 4, 5]\n",
        "my_tuple = (10, 20, 30, 40, 50)\n",
        "my_dict = {'name': 'Alice', 'age': 25, 'city': 'New York'}\n",
        "print(\"List:\", my_list)\n",
        "print(\"Tuple:\", my_tuple)\n",
        "print(\"Dictionary:\", my_dict)"
      ],
      "metadata": {
        "colab": {
          "base_uri": "https://localhost:8080/"
        },
        "id": "0aZn0JuidyPv",
        "outputId": "4353f84a-d763-4103-c570-500d070c9639"
      },
      "execution_count": 28,
      "outputs": [
        {
          "output_type": "stream",
          "name": "stdout",
          "text": [
            "List: [1, 2, 3, 4, 5]\n",
            "Tuple: (10, 20, 30, 40, 50)\n",
            "Dictionary: {'name': 'Alice', 'age': 25, 'city': 'New York'}\n"
          ]
        }
      ]
    },
    {
      "cell_type": "code",
      "source": [
        "#Q27.Write a code to create a list of 5 random numbers between 1 and 100, sort it in ascending order, and print the result.(replaced)?\n",
        "import random\n",
        "random_numbers = [random.randint(1, 100) for _ in range(5)]\n",
        "random_numbers.sort()\n",
        "print(\"Sorted list:\", random_numbers)"
      ],
      "metadata": {
        "colab": {
          "base_uri": "https://localhost:8080/"
        },
        "id": "-roU_1modyMc",
        "outputId": "39c587a6-0746-4406-f807-f18ff8809198"
      },
      "execution_count": 29,
      "outputs": [
        {
          "output_type": "stream",
          "name": "stdout",
          "text": [
            "Sorted list: [2, 5, 32, 69, 70]\n"
          ]
        }
      ]
    },
    {
      "cell_type": "code",
      "source": [
        "#Q28.Write a code to create a list with strings and print the element at the third index?\n",
        "string_list = [\"apple\", \"banana\", \"cherry\", \"date\", \"elderberry\"]\n",
        "print(\"Element at the third index:\", string_list[3])\n",
        "\n"
      ],
      "metadata": {
        "colab": {
          "base_uri": "https://localhost:8080/"
        },
        "id": "ZdTIFHKSdyKQ",
        "outputId": "ccdeb9c8-b91c-43cf-f8b0-086ec83d092f"
      },
      "execution_count": 30,
      "outputs": [
        {
          "output_type": "stream",
          "name": "stdout",
          "text": [
            "Element at the third index: date\n"
          ]
        }
      ]
    },
    {
      "cell_type": "code",
      "source": [
        "#Q29. Write a code to combine two dictionaries into one and print the result?\n",
        "dict1 = {'name': 'Alice', 'age': 25}\n",
        "dict2 = {'city': 'Paris', 'country': 'France'}\n",
        "dict1.update(dict2)\n",
        "print(\"Combined dictionary:\", dict1)"
      ],
      "metadata": {
        "colab": {
          "base_uri": "https://localhost:8080/"
        },
        "id": "iPJLBEd7dx8Q",
        "outputId": "96b16433-920b-4a93-d75d-2a6c07b2068f"
      },
      "execution_count": 31,
      "outputs": [
        {
          "output_type": "stream",
          "name": "stdout",
          "text": [
            "Combined dictionary: {'name': 'Alice', 'age': 25, 'city': 'Paris', 'country': 'France'}\n"
          ]
        }
      ]
    },
    {
      "cell_type": "code",
      "source": [
        "#Q30. Write a code to convert a list of strings into a set?\n",
        "string_list = [\"apple\", \"banana\", \"cherry\", \"apple\", \"date\"]\n",
        "string_set = set(string_list)\n",
        "print(\"Converted set:\", string_set)"
      ],
      "metadata": {
        "colab": {
          "base_uri": "https://localhost:8080/"
        },
        "id": "60QfZvKEe30u",
        "outputId": "4a6a09e0-9449-488e-b8a5-c948fe0d5d63"
      },
      "execution_count": 32,
      "outputs": [
        {
          "output_type": "stream",
          "name": "stdout",
          "text": [
            "Converted set: {'apple', 'banana', 'date', 'cherry'}\n"
          ]
        }
      ]
    }
  ]
}