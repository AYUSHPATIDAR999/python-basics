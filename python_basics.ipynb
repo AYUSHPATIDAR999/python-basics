{
  "nbformat": 4,
  "nbformat_minor": 0,
  "metadata": {
    "colab": {
      "provenance": []
    },
    "kernelspec": {
      "name": "python3",
      "display_name": "Python 3"
    },
    "language_info": {
      "name": "python"
    }
  },
  "cells": [
    {
      "cell_type": "markdown",
      "source": [],
      "metadata": {
        "id": "qrFJroWXqf_d"
      }
    },
    {
      "cell_type": "markdown",
      "source": [
        "**Python Basics Questions**\n",
        "\n",
        "Q1. What is Python, and why is it popular?\n",
        "    Python is a high-level programming language that is easy to learn & easy to use and has a large libraries. It is widely used in data science, web devleopment due to simple syntax.\n",
        "  \n",
        "Q2. What is an interpreter in Python?\n",
        "    An interpreter in Python is a program that reads and runs Python code line by line, converting it into commands that a machine can understand and then carrying them out.\n",
        "\n",
        "Q3. What are pre-defined keywords in Python?\n",
        "    predefined keywords in Python are special words that the programming language already knows and uses for specific tasks.\n",
        "    here is list of some python keywords are\n",
        "    Here are some examples of Python's predefined keywords:\n",
        "    if\n",
        "    for\n",
        "    def\n",
        "    true and false\n",
        "    class\n",
        "    import\n",
        "    while\n",
        "\n",
        "Q4. Can keywords be used as variable names?\n",
        "    No, Python does not allow the usage of keywords as variable names, Python will display a syntax error if you attempt to use a keyword as the name of a variable.\n",
        "\n",
        "Q5. What is mutability in Python?\n",
        "    Mutability in Python refers to whether an object can be changed after it is created\n",
        "    their are two types of mutablity\n",
        "    >Mutable objects can be modified after they are created.\n",
        "    >Immutable objects cannot be changed after they are created.\n",
        "\n",
        "Q6. Why are lists mutable, but tuples are immutable?\n",
        "    Python lists are mutable because they serve as collections of things that are subject to change over time, allowing actions for example element adding, deleting, and modifiying. However, because tuples are designed to represent fixed collections of data that shouldn't be changed once they are created, they are immutable.  Tuples are helpful when you need constant values,so lists and tuples differ from one another due to efficiency and requirments.\n",
        "\n",
        "Q7. What is the difference between “==” and “is” operators in Python?\n",
        "    == checks for value equality.\n",
        "    is checks for object identity whether two variables refer to the same object in memory.\n",
        "\n",
        "Q8. What are logical operators in Python?\n",
        "    Their are three types of logical operators are:\n",
        "    and- True if both conditions are true.\n",
        "    or- True if at least one condition is true.\n",
        "    not- Reverses the result of a condition.\n",
        "\n",
        "Q9. What is type casting in Python?\n",
        "    Type casting in Python refers to the process of converting one data type to another. Python give two types of type casting are\n",
        "    Implicit casting happens automatically when converting from a smaller to a larger data type.\n",
        "    Explicit casting is done manually using functions like int(), float(), and str().\n",
        "\n",
        "Q10. What is the difference between implicit and explicit type casting?\n",
        "    The difference between implicit and explicit type casting\n",
        "    Implicit- done automatically, typically when moving from a smaller to a larger data type (e.g., from int to float)\n",
        "    Explicit- done manually by the programmer using type conversion functions (e.g., int(), str())\n",
        "\n",
        "Q11. What is the purpose of conditional statements in Python?\n",
        "    Python's conditional statements allow a program select what to do based on particular situations.  By performing different code blocks based on whether a condition is true or false, they helps in managing the program's flow.  For example, a `if` statement checks if a condition is true and runs the code accordingly, while `else` and `elif` provide alternative actions for when the condition is false or when you need to check multiple conditions.  This makes the program more flexible and dynamic.\n",
        "\n",
        "Q12. How does the elif statement work?\n",
        "    Multiple conditions can be checked after a `if` statement in Python using the `elif` statement.  The program shows the condition in the `elif` step if the `if` condition is false.  Its code is run if that condition is true.  Multiple `elif` statements are allowed, and the program will check every one simultaneously.  The `else` block, if it is present, will run if none of the requirements are true.  This makes it possible to verify multiple requirements in a clear and systematic manner.\n",
        "\n",
        "Q13. What is the difference between for and while loops?\n",
        "    the difference betwen for and while loop are:\n",
        "    for loop is used when you know the number of iterations in advance.\n",
        "    while loop is used when you want the loop to continue as long as a certain condition is true.\n",
        "\n",
        "Q14. Describe a scenario where a while loop is more suitable than a for loop?\n",
        "    when asking a user to enter a correct password, you don't know how many attempts it will take, so a `while` loop would keep prompting the user until the correct input is provided. In contrast, a `for` loop is better suited for situations where the number of iterations is fixed or known in advance is best example to understand the scenario for while loop.\n"
      ],
      "metadata": {
        "id": "OVjepX294hxC"
      }
    },
    {
      "cell_type": "code",
      "execution_count": 1,
      "metadata": {
        "id": "OFRd7RnrKQYj",
        "colab": {
          "base_uri": "https://localhost:8080/"
        },
        "outputId": "ea761c7f-4de8-40fd-93ff-e1dc9bbdfa53"
      },
      "outputs": [
        {
          "output_type": "stream",
          "name": "stdout",
          "text": [
            "Hello, world!\n"
          ]
        }
      ],
      "source": [
        "#practical Questions\n",
        "#Q1 Write a Python program to print \"Hello, World!\n",
        "print(\"Hello, world!\")"
      ]
    },
    {
      "cell_type": "code",
      "source": [
        "#Q2 Write a Python program that displays your name and age\n",
        "name = \"ayush\"\n",
        "age = 23\n",
        "print (name)\n",
        "print (age)"
      ],
      "metadata": {
        "colab": {
          "base_uri": "https://localhost:8080/"
        },
        "id": "UkQuUvEISNZF",
        "outputId": "11653017-d593-43ee-b9e6-f8ad6ee8956a"
      },
      "execution_count": 4,
      "outputs": [
        {
          "output_type": "stream",
          "name": "stdout",
          "text": [
            "ayush\n",
            "23\n"
          ]
        }
      ]
    },
    {
      "cell_type": "code",
      "source": [
        "#Q3 Write code to print all the pre-defined keywords in Python using the keyword library\n",
        "print(keyword.kwlist)"
      ],
      "metadata": {
        "colab": {
          "base_uri": "https://localhost:8080/"
        },
        "id": "ZJkf6XlaSo6c",
        "outputId": "a24726dd-6d7c-42ee-b1d9-74fc7795ee66"
      },
      "execution_count": 8,
      "outputs": [
        {
          "output_type": "stream",
          "name": "stdout",
          "text": [
            "['False', 'None', 'True', 'and', 'as', 'assert', 'async', 'await', 'break', 'class', 'continue', 'def', 'del', 'elif', 'else', 'except', 'finally', 'for', 'from', 'global', 'if', 'import', 'in', 'is', 'lambda', 'nonlocal', 'not', 'or', 'pass', 'raise', 'return', 'try', 'while', 'with', 'yield']\n"
          ]
        }
      ]
    },
    {
      "cell_type": "code",
      "source": [
        "#Q4 Write a program that checks if a given word is a Python keyword\n"
      ],
      "metadata": {
        "id": "E3EQKI8rTrfv"
      },
      "execution_count": null,
      "outputs": []
    },
    {
      "cell_type": "code",
      "source": [
        "#Q5 Create a list and tuple in Python, and demonstrate how attempting to change an element works differently for each\n",
        "my_list = [1,2,3,4]\n",
        "my_tuple = (1,2,3,4)\n",
        "print(\"before\", my_list)\n",
        "print(\"before\", my_tuple)\n",
        "my_list[0] = 10\n",
        "print(\"after\", my_list)\n",
        "#my_tuple[0] = 10 give an error tuple can't changed.\n"
      ],
      "metadata": {
        "colab": {
          "base_uri": "https://localhost:8080/"
        },
        "id": "EphU_AvvUKj5",
        "outputId": "dc016d45-1995-4d61-9078-1c5a8aa55f28"
      },
      "execution_count": 26,
      "outputs": [
        {
          "output_type": "stream",
          "name": "stdout",
          "text": [
            "before [1, 2, 3, 4]\n",
            "before (1, 2, 3, 4)\n",
            "after [10, 2, 3, 4]\n"
          ]
        }
      ]
    },
    {
      "cell_type": "code",
      "source": [
        "#Q6 Write a function to demonstrate the behavior of mutable and immutable arguments\n"
      ],
      "metadata": {
        "id": "W9ajBvEjXoxF"
      },
      "execution_count": null,
      "outputs": []
    },
    {
      "cell_type": "code",
      "source": [
        "#Q7 Write a function to demonstrate the behavior of mutable and immutable arguments0\n",
        ""
      ],
      "metadata": {
        "id": "i7Uc0Zd4Yse7"
      },
      "execution_count": null,
      "outputs": []
    },
    {
      "cell_type": "code",
      "source": [
        "#Q8 Write a program to demonstrate the use of logical operators\n",
        "x = 10\n",
        "y = 20\n",
        "z = 30\n",
        "print(x < y and z > y)\n",
        "print(x > y or x > z)\n",
        "print(x==y)"
      ],
      "metadata": {
        "colab": {
          "base_uri": "https://localhost:8080/"
        },
        "id": "X7MqwQ4QY0MX",
        "outputId": "feb371ff-ea4e-4dd7-ae71-74887be0c3a6"
      },
      "execution_count": 38,
      "outputs": [
        {
          "output_type": "stream",
          "name": "stdout",
          "text": [
            "True\n",
            "False\n",
            "False\n"
          ]
        }
      ]
    },
    {
      "cell_type": "code",
      "source": [
        "#Q9 Write a Python program to convert user input from string to integer, float, and boolean types\n",
        "user_input = input(\"Enter a value: \")\n",
        "user_input_int = int(user_input)\n",
        "user_input_float = float(user_input)\n",
        "\n",
        "print(\"Converted to integer:\", {user_input_int})\n",
        "print(\"Converted to float:\", {user_input_float})\n",
        "\n"
      ],
      "metadata": {
        "colab": {
          "base_uri": "https://localhost:8080/"
        },
        "id": "MiJjNXcPbYQi",
        "outputId": "34df273b-b05c-4085-9c0b-3ca58287b502"
      },
      "execution_count": 53,
      "outputs": [
        {
          "output_type": "stream",
          "name": "stdout",
          "text": [
            "Enter a value: 45\n",
            "Converted to integer: {45}\n",
            "Converted to float: {45.0}\n"
          ]
        }
      ]
    },
    {
      "cell_type": "code",
      "source": [
        "#Q10 Write code to demonstrate type casting with list elements\n",
        "my_list = ['1', '2.5', 'True', '100']\n"
      ],
      "metadata": {
        "id": "Msyow8T5jGt6"
      },
      "execution_count": null,
      "outputs": []
    },
    {
      "cell_type": "code",
      "source": [
        "#Q11 Write a program that checks if a number is positive, negative, or zero\n",
        "num = input(\"enter a number: \")\n",
        "num = float(num)\n",
        "if num > 0:\n",
        "    print(\"The number is positive.\")\n",
        "elif num < 0:\n",
        "    print(\"The number is negative.\")\n",
        "else:\n",
        "    print(\"The number is zero.\")"
      ],
      "metadata": {
        "colab": {
          "base_uri": "https://localhost:8080/"
        },
        "id": "XiC4WlMgkDeV",
        "outputId": "d57fafc7-17f5-4a6e-ee5b-b98d80f01ed1"
      },
      "execution_count": 57,
      "outputs": [
        {
          "output_type": "stream",
          "name": "stdout",
          "text": [
            "enter a number: 6.7\n",
            "The number is positive.\n"
          ]
        }
      ]
    },
    {
      "cell_type": "code",
      "source": [
        "#Q12 Write a for loop to print numbers from 1 to 10\n",
        "for i in range(1, 11):\n",
        "    print(i)"
      ],
      "metadata": {
        "colab": {
          "base_uri": "https://localhost:8080/"
        },
        "id": "xiwDn8eymAzx",
        "outputId": "6d983dc4-bff0-4b25-b479-18733cfbf51e"
      },
      "execution_count": 58,
      "outputs": [
        {
          "output_type": "stream",
          "name": "stdout",
          "text": [
            "1\n",
            "2\n",
            "3\n",
            "4\n",
            "5\n",
            "6\n",
            "7\n",
            "8\n",
            "9\n",
            "10\n"
          ]
        }
      ]
    },
    {
      "cell_type": "code",
      "source": [
        "#Q13 Write a Python program to find the sum of all even numbers between 1 and 500\n",
        "sum = 0\n",
        "for i in range(1, 501):\n",
        "  if i % 2 == 0:\n",
        "    sum += i\n",
        "    print(\"sum of all even numbers\", sum)"
      ],
      "metadata": {
        "colab": {
          "base_uri": "https://localhost:8080/"
        },
        "id": "yDD01_AMmpT_",
        "outputId": "249d9cdd-52d2-4df2-ee13-e785cd465281"
      },
      "execution_count": 2,
      "outputs": [
        {
          "output_type": "stream",
          "name": "stdout",
          "text": [
            "sum of all even numbers 2\n",
            "sum of all even numbers 6\n",
            "sum of all even numbers 12\n",
            "sum of all even numbers 20\n",
            "sum of all even numbers 30\n",
            "sum of all even numbers 42\n",
            "sum of all even numbers 56\n",
            "sum of all even numbers 72\n",
            "sum of all even numbers 90\n",
            "sum of all even numbers 110\n",
            "sum of all even numbers 132\n",
            "sum of all even numbers 156\n",
            "sum of all even numbers 182\n",
            "sum of all even numbers 210\n",
            "sum of all even numbers 240\n",
            "sum of all even numbers 272\n",
            "sum of all even numbers 306\n",
            "sum of all even numbers 342\n",
            "sum of all even numbers 380\n",
            "sum of all even numbers 420\n",
            "sum of all even numbers 462\n",
            "sum of all even numbers 506\n",
            "sum of all even numbers 552\n",
            "sum of all even numbers 600\n",
            "sum of all even numbers 650\n",
            "sum of all even numbers 702\n",
            "sum of all even numbers 756\n",
            "sum of all even numbers 812\n",
            "sum of all even numbers 870\n",
            "sum of all even numbers 930\n",
            "sum of all even numbers 992\n",
            "sum of all even numbers 1056\n",
            "sum of all even numbers 1122\n",
            "sum of all even numbers 1190\n",
            "sum of all even numbers 1260\n",
            "sum of all even numbers 1332\n",
            "sum of all even numbers 1406\n",
            "sum of all even numbers 1482\n",
            "sum of all even numbers 1560\n",
            "sum of all even numbers 1640\n",
            "sum of all even numbers 1722\n",
            "sum of all even numbers 1806\n",
            "sum of all even numbers 1892\n",
            "sum of all even numbers 1980\n",
            "sum of all even numbers 2070\n",
            "sum of all even numbers 2162\n",
            "sum of all even numbers 2256\n",
            "sum of all even numbers 2352\n",
            "sum of all even numbers 2450\n",
            "sum of all even numbers 2550\n",
            "sum of all even numbers 2652\n",
            "sum of all even numbers 2756\n",
            "sum of all even numbers 2862\n",
            "sum of all even numbers 2970\n",
            "sum of all even numbers 3080\n",
            "sum of all even numbers 3192\n",
            "sum of all even numbers 3306\n",
            "sum of all even numbers 3422\n",
            "sum of all even numbers 3540\n",
            "sum of all even numbers 3660\n",
            "sum of all even numbers 3782\n",
            "sum of all even numbers 3906\n",
            "sum of all even numbers 4032\n",
            "sum of all even numbers 4160\n",
            "sum of all even numbers 4290\n",
            "sum of all even numbers 4422\n",
            "sum of all even numbers 4556\n",
            "sum of all even numbers 4692\n",
            "sum of all even numbers 4830\n",
            "sum of all even numbers 4970\n",
            "sum of all even numbers 5112\n",
            "sum of all even numbers 5256\n",
            "sum of all even numbers 5402\n",
            "sum of all even numbers 5550\n",
            "sum of all even numbers 5700\n",
            "sum of all even numbers 5852\n",
            "sum of all even numbers 6006\n",
            "sum of all even numbers 6162\n",
            "sum of all even numbers 6320\n",
            "sum of all even numbers 6480\n",
            "sum of all even numbers 6642\n",
            "sum of all even numbers 6806\n",
            "sum of all even numbers 6972\n",
            "sum of all even numbers 7140\n",
            "sum of all even numbers 7310\n",
            "sum of all even numbers 7482\n",
            "sum of all even numbers 7656\n",
            "sum of all even numbers 7832\n",
            "sum of all even numbers 8010\n",
            "sum of all even numbers 8190\n",
            "sum of all even numbers 8372\n",
            "sum of all even numbers 8556\n",
            "sum of all even numbers 8742\n",
            "sum of all even numbers 8930\n",
            "sum of all even numbers 9120\n",
            "sum of all even numbers 9312\n",
            "sum of all even numbers 9506\n",
            "sum of all even numbers 9702\n",
            "sum of all even numbers 9900\n",
            "sum of all even numbers 10100\n",
            "sum of all even numbers 10302\n",
            "sum of all even numbers 10506\n",
            "sum of all even numbers 10712\n",
            "sum of all even numbers 10920\n",
            "sum of all even numbers 11130\n",
            "sum of all even numbers 11342\n",
            "sum of all even numbers 11556\n",
            "sum of all even numbers 11772\n",
            "sum of all even numbers 11990\n",
            "sum of all even numbers 12210\n",
            "sum of all even numbers 12432\n",
            "sum of all even numbers 12656\n",
            "sum of all even numbers 12882\n",
            "sum of all even numbers 13110\n",
            "sum of all even numbers 13340\n",
            "sum of all even numbers 13572\n",
            "sum of all even numbers 13806\n",
            "sum of all even numbers 14042\n",
            "sum of all even numbers 14280\n",
            "sum of all even numbers 14520\n",
            "sum of all even numbers 14762\n",
            "sum of all even numbers 15006\n",
            "sum of all even numbers 15252\n",
            "sum of all even numbers 15500\n",
            "sum of all even numbers 15750\n",
            "sum of all even numbers 16002\n",
            "sum of all even numbers 16256\n",
            "sum of all even numbers 16512\n",
            "sum of all even numbers 16770\n",
            "sum of all even numbers 17030\n",
            "sum of all even numbers 17292\n",
            "sum of all even numbers 17556\n",
            "sum of all even numbers 17822\n",
            "sum of all even numbers 18090\n",
            "sum of all even numbers 18360\n",
            "sum of all even numbers 18632\n",
            "sum of all even numbers 18906\n",
            "sum of all even numbers 19182\n",
            "sum of all even numbers 19460\n",
            "sum of all even numbers 19740\n",
            "sum of all even numbers 20022\n",
            "sum of all even numbers 20306\n",
            "sum of all even numbers 20592\n",
            "sum of all even numbers 20880\n",
            "sum of all even numbers 21170\n",
            "sum of all even numbers 21462\n",
            "sum of all even numbers 21756\n",
            "sum of all even numbers 22052\n",
            "sum of all even numbers 22350\n",
            "sum of all even numbers 22650\n",
            "sum of all even numbers 22952\n",
            "sum of all even numbers 23256\n",
            "sum of all even numbers 23562\n",
            "sum of all even numbers 23870\n",
            "sum of all even numbers 24180\n",
            "sum of all even numbers 24492\n",
            "sum of all even numbers 24806\n",
            "sum of all even numbers 25122\n",
            "sum of all even numbers 25440\n",
            "sum of all even numbers 25760\n",
            "sum of all even numbers 26082\n",
            "sum of all even numbers 26406\n",
            "sum of all even numbers 26732\n",
            "sum of all even numbers 27060\n",
            "sum of all even numbers 27390\n",
            "sum of all even numbers 27722\n",
            "sum of all even numbers 28056\n",
            "sum of all even numbers 28392\n",
            "sum of all even numbers 28730\n",
            "sum of all even numbers 29070\n",
            "sum of all even numbers 29412\n",
            "sum of all even numbers 29756\n",
            "sum of all even numbers 30102\n",
            "sum of all even numbers 30450\n",
            "sum of all even numbers 30800\n",
            "sum of all even numbers 31152\n",
            "sum of all even numbers 31506\n",
            "sum of all even numbers 31862\n",
            "sum of all even numbers 32220\n",
            "sum of all even numbers 32580\n",
            "sum of all even numbers 32942\n",
            "sum of all even numbers 33306\n",
            "sum of all even numbers 33672\n",
            "sum of all even numbers 34040\n",
            "sum of all even numbers 34410\n",
            "sum of all even numbers 34782\n",
            "sum of all even numbers 35156\n",
            "sum of all even numbers 35532\n",
            "sum of all even numbers 35910\n",
            "sum of all even numbers 36290\n",
            "sum of all even numbers 36672\n",
            "sum of all even numbers 37056\n",
            "sum of all even numbers 37442\n",
            "sum of all even numbers 37830\n",
            "sum of all even numbers 38220\n",
            "sum of all even numbers 38612\n",
            "sum of all even numbers 39006\n",
            "sum of all even numbers 39402\n",
            "sum of all even numbers 39800\n",
            "sum of all even numbers 40200\n",
            "sum of all even numbers 40602\n",
            "sum of all even numbers 41006\n",
            "sum of all even numbers 41412\n",
            "sum of all even numbers 41820\n",
            "sum of all even numbers 42230\n",
            "sum of all even numbers 42642\n",
            "sum of all even numbers 43056\n",
            "sum of all even numbers 43472\n",
            "sum of all even numbers 43890\n",
            "sum of all even numbers 44310\n",
            "sum of all even numbers 44732\n",
            "sum of all even numbers 45156\n",
            "sum of all even numbers 45582\n",
            "sum of all even numbers 46010\n",
            "sum of all even numbers 46440\n",
            "sum of all even numbers 46872\n",
            "sum of all even numbers 47306\n",
            "sum of all even numbers 47742\n",
            "sum of all even numbers 48180\n",
            "sum of all even numbers 48620\n",
            "sum of all even numbers 49062\n",
            "sum of all even numbers 49506\n",
            "sum of all even numbers 49952\n",
            "sum of all even numbers 50400\n",
            "sum of all even numbers 50850\n",
            "sum of all even numbers 51302\n",
            "sum of all even numbers 51756\n",
            "sum of all even numbers 52212\n",
            "sum of all even numbers 52670\n",
            "sum of all even numbers 53130\n",
            "sum of all even numbers 53592\n",
            "sum of all even numbers 54056\n",
            "sum of all even numbers 54522\n",
            "sum of all even numbers 54990\n",
            "sum of all even numbers 55460\n",
            "sum of all even numbers 55932\n",
            "sum of all even numbers 56406\n",
            "sum of all even numbers 56882\n",
            "sum of all even numbers 57360\n",
            "sum of all even numbers 57840\n",
            "sum of all even numbers 58322\n",
            "sum of all even numbers 58806\n",
            "sum of all even numbers 59292\n",
            "sum of all even numbers 59780\n",
            "sum of all even numbers 60270\n",
            "sum of all even numbers 60762\n",
            "sum of all even numbers 61256\n",
            "sum of all even numbers 61752\n",
            "sum of all even numbers 62250\n",
            "sum of all even numbers 62750\n"
          ]
        }
      ]
    },
    {
      "cell_type": "markdown",
      "source": [],
      "metadata": {
        "id": "RhS6yLlzYyCl"
      }
    },
    {
      "cell_type": "code",
      "source": [
        "#Q14 Write a program to reverse a string using a while loop\n",
        "input_string = input(\"Enter a string: \")\n",
        "reversed_string = \"\"\n",
        "index = len(input_string) - 1\n",
        "\n",
        "while index >= 0:\n",
        "    reversed_string += input_string[index]\n",
        "    index -= 1\n",
        "\n",
        "print(\"Reversed string:\", reversed_string)"
      ],
      "metadata": {
        "colab": {
          "base_uri": "https://localhost:8080/"
        },
        "id": "BkL07iGCpl6Q",
        "outputId": "ff77d166-6c17-46a0-fc05-e2320b176d00"
      },
      "execution_count": 6,
      "outputs": [
        {
          "output_type": "stream",
          "name": "stdout",
          "text": [
            "Enter a string: ayush\n",
            "Reversed string: hsuya\n"
          ]
        }
      ]
    },
    {
      "cell_type": "code",
      "source": [
        "_#Q15 Write a Python program to calculate the factorial of a number provided by the user using a while loop\n",
        "num = int(input(\"Enter a number: \"))\n",
        "factorial = 1\n",
        "if num < 0:\n",
        "    print(\"Factorial is not defined for negative numbers.\")\n",
        "elif num == 0:\n",
        "    print(\"The factorial of 0 is 1.\")\n",
        "else:\n",
        "    while num > 0:\n",
        "      factorial *= num\n",
        "      num -= 1\n",
        "      print(factorial)"
      ],
      "metadata": {
        "colab": {
          "base_uri": "https://localhost:8080/"
        },
        "id": "r8r7PIITp-1O",
        "outputId": "21572788-dba9-4c93-c1aa-d9206994a210"
      },
      "execution_count": 7,
      "outputs": [
        {
          "output_type": "stream",
          "name": "stdout",
          "text": [
            "Enter a number: 5\n",
            "5\n",
            "20\n",
            "60\n",
            "120\n",
            "120\n"
          ]
        }
      ]
    }
  ]
}